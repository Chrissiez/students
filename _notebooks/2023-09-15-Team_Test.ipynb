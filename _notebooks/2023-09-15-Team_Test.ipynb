{
 "cells": [
  {
   "cell_type": "markdown",
   "metadata": {},
   "source": [
    "---\n",
    "toc: true\n",
    "comments: false\n",
    "layout: post\n",
    "title: Team Test\n",
    "type: hacks\n",
    "courses: { csp: {week: 4} }\n",
    "---\n",
    "\n",
    "### Introduction\n",
    "- Provide an introduction to the notebook and its purpose."
   ]
  },
  {
   "cell_type": "markdown",
   "metadata": {},
   "source": [
    "<hr style=\"solid\">\n",
    "\n",
    "### Program with Output\n",
    "- Include a code example that demonstrates a simple program with an output."
   ]
  },
  {
   "cell_type": "code",
   "execution_count": null,
   "metadata": {},
   "outputs": [],
   "source": [
    "print(\"Hello, world!\")"
   ]
  },
  {
   "cell_type": "markdown",
   "metadata": {},
   "source": [
    "<hr style=\"solid\">\n",
    "\n",
    "### Program with Input / Output\n",
    "- Show a program that takes user input and produces output."
   ]
  },
  {
   "cell_type": "code",
   "execution_count": null,
   "metadata": {},
   "outputs": [],
   "source": [
    "name = input(\"Enter your name: \") \n",
    "print (\"Hello, \" + name + \"!\") "
   ]
  },
  {
   "cell_type": "markdown",
   "metadata": {},
   "source": [
    "<hr style=\"solid\">\n",
    "\n",
    "### Program with a List\n",
    "- Demonstrate a program that uses a list."
   ]
  },
  {
   "cell_type": "code",
   "execution_count": null,
   "metadata": {},
   "outputs": [],
   "source": [
    "fruits = [\"apple\", \"banana\", \"cherry\"] \n",
    "for fruit in fruits: print(fruit) "
   ]
  },
  {
   "cell_type": "markdown",
   "metadata": {},
   "source": [
    "<hr style=\"solid\">\n",
    "\n",
    "### Program with a Dictionary\n",
    "- Showcase a program utilizing a dictionary."
   ]
  },
  {
   "cell_type": "code",
   "execution_count": null,
   "metadata": {},
   "outputs": [],
   "source": [
    "person = {\"name\": \"John\", \"age\": 30, \"city\": \"New York\"} \n",
    "print(person[\"name\"]) "
   ]
  },
  {
   "cell_type": "markdown",
   "metadata": {},
   "source": [
    "<hr style=\"solid\">\n",
    "\n",
    "### Program with Iteration\n",
    "- Provide an example of a program that uses iteration (e.g., a for loop)."
   ]
  },
  {
   "cell_type": "code",
   "execution_count": null,
   "metadata": {},
   "outputs": [],
   "source": [
    "for i in range(5): \n",
    "    print(i) "
   ]
  },
  {
   "cell_type": "markdown",
   "metadata": {},
   "source": [
    "<hr style=\"solid\">\n",
    "\n",
    "### Program with a Function\n",
    "- Create a function that performs a mathematical or statistical calculation."
   ]
  },
  {
   "cell_type": "code",
   "execution_count": null,
   "metadata": {},
   "outputs": [],
   "source": [
    "def calculate_average(numbers): \n",
    "    total = sum(numbers) \n",
    "    return total / len(numbers)\n",
    "numbers = [10, 20, 30, 40, 50] \n",
    "average = calculate_average(numbers) \n",
    "print(\"Average:\", average) "
   ]
  },
  {
   "cell_type": "markdown",
   "metadata": {},
   "source": [
    "<hr style=\"solid\">\n",
    "\n",
    "### Program with a Selection/Condition\n",
    "- Include a program with a selection or condition (e.g., if/else statement)."
   ]
  },
  {
   "cell_type": "code",
   "execution_count": null,
   "metadata": {},
   "outputs": [],
   "source": [
    "x = 10 \n",
    "if x > 5: \n",
    "    print(\"x is greater than 5\") \n",
    "else: \n",
    "    print(\"x is not greater than 5\") "
   ]
  },
  {
   "cell_type": "markdown",
   "metadata": {},
   "source": [
    "<hr style=\"solid\">\n",
    "\n",
    "### Debugging\n",
    "- Explain the overall purpose of this program, summarizing what you've covered."
   ]
  },
  {
   "cell_type": "code",
   "execution_count": null,
   "metadata": {},
   "outputs": [],
   "source": [
    "# Initial version with an error\n",
    "x = 10\n",
    "y = 0\n",
    "try:\n",
    "    result = x / y\n",
    "except ZeroDivisionError as e:\n",
    "    print(\"Error:\", e)\n",
    "\n",
    "# Debugging steps to fix the error\n",
    "try:\n",
    "    if y == 0:\n",
    "        raise ValueError(\"y cannot be zero\")\n",
    "    result = x / y\n",
    "except ValueError as e:\n",
    "    print(\"Error:\", e)\n",
    "\n",
    "\n",
    "# Corrected version\n",
    "def divide(x, y):\n",
    "    if y == 0:\n",
    "        raise ValueError(\"y cannot be zero\")\n",
    "    return x / y\n",
    "try:\n",
    "    result = divide(x, y)\n",
    "except ValueError as e:\n",
    "    print(\"Error:\", e)\n",
    "else:\n",
    "    print(\"Result:\", result)"
   ]
  },
  {
   "cell_type": "code",
   "execution_count": null,
   "metadata": {},
   "outputs": [],
   "source": [
    "# Debugging steps to fix the error \n",
    "try: \n",
    "    if y == 0: \n",
    "        raise ValueError(\"y cannot be zero\") \n",
    "    result = x / y \n",
    "except ValueError as e: \n",
    "    print(\"Error:\", e) "
   ]
  },
  {
   "cell_type": "markdown",
   "metadata": {},
   "source": [
    "The code block above demonstrates the steps to fix the error by checking for a zero division condition and raising a ``ValueError`` with a meaningful error message."
   ]
  },
  {
   "cell_type": "code",
   "execution_count": null,
   "metadata": {},
   "outputs": [],
   "source": [
    "# Corrected version:\n",
    "def divide(x, y): \n",
    "    if y == 0: \n",
    "        raise ValueError(\"y cannot be zero\") \n",
    "    return x / y \n",
    "try: \n",
    "    result = divide(x, y) \n",
    "except ValueError as e: \n",
    "    print(\"Error:\", e) \n",
    "else: \n",
    "    print(\"Result:\", result) "
   ]
  },
  {
   "cell_type": "markdown",
   "metadata": {},
   "source": [
    "The code block above provides the corrected version of the code using a ``divide`` function that includes the fix. It also includes error handling to catch and handle any exceptions, and it prints the result if there are no errors.\n",
    "\n",
    "\n",
    "\n",
    "\n",
    "\n"
   ]
  },
  {
   "cell_type": "markdown",
   "metadata": {},
   "source": [
    "<hr style=\"solid\">\n",
    "\n",
    "### Program with Purpose\n",
    "- Explain the overall purpose of this program, summarizing what you've covered."
   ]
  },
  {
   "cell_type": "markdown",
   "metadata": {},
   "source": [
    "<hr style=\"solid\">\n",
    "\n",
    "### Conclusion\n",
    "- Provide a concluding statement, summarizing the key concepts and skills learned in the notebook."
   ]
  }
 ],
 "metadata": {
  "kernelspec": {
   "display_name": "Python 3",
   "language": "python",
   "name": "python3"
  },
  "language_info": {
   "codemirror_mode": {
    "name": "ipython",
    "version": 3
   },
   "file_extension": ".py",
   "mimetype": "text/x-python",
   "name": "python",
   "nbconvert_exporter": "python",
   "pygments_lexer": "ipython3",
   "version": "3.10.12"
  },
  "orig_nbformat": 4
 },
 "nbformat": 4,
 "nbformat_minor": 2
}
