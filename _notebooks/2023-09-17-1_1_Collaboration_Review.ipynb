{
 "cells": [
  {
   "cell_type": "markdown",
   "metadata": {},
   "source": [
    "---\n",
    "title: 1.1 Collaboration\n",
    "toc: true\n",
    "description: Notes on using html and javascript to create tables\n",
    "courses: { compsci: {week: 4} }\n",
    "type: hacks\n",
    "---"
   ]
  },
  {
   "cell_type": "markdown",
   "metadata": {},
   "source": [
    "- What are the benefits of a team? Explain some of the diveristies that your team has to offer.\n",
    "- Describe how you will facilitate communication amongst group members.\n",
    "- How will you hold each person accountable for their portion of the work? Think about dates, review tickets, and peer revies."
   ]
  }
 ],
 "metadata": {
  "language_info": {
   "name": "python"
  },
  "orig_nbformat": 4
 },
 "nbformat": 4,
 "nbformat_minor": 2
}
