{
 "cells": [
  {
   "cell_type": "markdown",
   "metadata": {},
   "source": [
    "---\n",
    "toc: true\n",
    "comments: true\n",
    "layout: post\n",
    "title: College Board Quiz\n",
    "description: notes about the quiz\n",
    "type: hacks\n",
    "courses: { compsci: {week: 7} }\n",
    "---"
   ]
  },
  {
   "cell_type": "markdown",
   "metadata": {},
   "source": [
    "# Questions\n",
    "\n",
    "1. variable - pretty simple\n",
    "2. cyber security - pretty simple\n",
    "3. Citizen Science - easy but had to search up definition\n",
    "4. Boolean - simple\n",
    "5. If else - simple\n",
    "6. Internet Engineering Task Force - had to search up\n",
    "7. Variable Stuff - knew how to do it, just had to double check\n",
    "8. Logic? - easy\n",
    "9. iteration - easy\n",
    "10. varible/iteration? - easy\n",
    "11. if else - easy\n",
    "12. math? - easy\n",
    "13. logic? - easy\n",
    "14. iteration output - easy\n",
    "15. Internet Communication - was able to guess but had to double check w/ chat\n",
    "16. DMCA - had to search up on chat\n",
    "17. digital divide - easy\n",
    "18. prediction model - easy\n",
    "19. metadata? - easy\n",
    "20. integer expression - easy\n",
    "21. movement - easy\n",
    "22. iteration - confusing but i got there eventually\n",
    "23. Dont get it\n",
    "24. Byte Pair encoding - easy, provides example\n",
    "25. Byte Pair encoding - easy\n",
    "26. iteration - got slightl confused but got there eventually\n",
    "27. iteration stop - easy\n",
    "28. binary bit - had no clue so I had to ask chat\n",
    "29. logic gate - no clue\n",
    "30. execution time - i think i got it?\n",
    "31. Program test - easy\n",
    "32. Correlation Graph - easy\n",
    "33. flowchart - I think i got it\n",
    "34. simulation - unsure\n",
    "35. Creative Commons License - easy\n",
    "36. operation - had to search floating-point representation\n",
    "37. program vs program - easy\n",
    "38. modulo - easy\n",
    "39. Internet communication - had to search up\n",
    "40. logic? - easy\n",
    "41. calculation - easy\n",
    "42. binary bit - not sure\n",
    "43. time - unsure\n",
    "44. binary - easy\n",
    "45. logic gate - not sure\n",
    "46. undecidable problem - not sure\n",
    "47. cryptography - unsure, the question was a little confusing\n",
    "48. random - easy\n",
    "49. missing expression - easy\n",
    "50. binary/linear search - easy\n",
    "51. symmetric encryption- had to search up \n",
    "52. Order - Easy\n",
    "53. Machine Learning - easy\n",
    "54. generalization - easy\n",
    "55. error - easy\n",
    "56. result - took a while to figure out\n",
    "57. string manipulation - easy\n",
    "58. crowdsourcing - had to ask chat\n",
    "59. saving - easy\n",
    "60. abstraction - easy\n",
    "61. data - easy\n",
    "62. online vs paper - easy\n",
    "63. iteration fix- easy\n",
    "64. cloud computing - had to ask chat\n",
    "65. bad code- had to ask chat\n",
    "66. bad code - had to ask chat \n",
    "\n",
    "\n",
    "# Difficult Questions"
   ]
  },
  {
   "cell_type": "code",
   "execution_count": 1,
   "metadata": {},
   "outputs": [
    {
     "name": "stdout",
     "output_type": "stream",
     "text": [
      "3\n",
      "4\n"
     ]
    }
   ],
   "source": [
    "\n",
    "# 7\n",
    "start = 1\n",
    "end = 20\n",
    "current = 3\n",
    "start = current \n",
    "current = current + 1\n",
    "print (start)\n",
    "print (current)"
   ]
  }
 ],
 "metadata": {
  "kernelspec": {
   "display_name": "Python 3",
   "language": "python",
   "name": "python3"
  },
  "language_info": {
   "codemirror_mode": {
    "name": "ipython",
    "version": 3
   },
   "file_extension": ".py",
   "mimetype": "text/x-python",
   "name": "python",
   "nbconvert_exporter": "python",
   "pygments_lexer": "ipython3",
   "version": "3.10.12"
  }
 },
 "nbformat": 4,
 "nbformat_minor": 2
}
