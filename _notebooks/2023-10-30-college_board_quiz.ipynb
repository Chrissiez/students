{
 "cells": [
  {
   "cell_type": "markdown",
   "metadata": {},
   "source": [
    "---\n",
    "toc: true\n",
    "comments: true\n",
    "layout: post\n",
    "title: College Board Quiz\n",
    "description: notes about the quiz\n",
    "type: hacks\n",
    "courses: { compsci: {week: 10} }\n",
    "---"
   ]
  },
  {
   "cell_type": "markdown",
   "metadata": {},
   "source": [
    "# Questions\n",
    "\n",
    "1. variable - pretty simple\n",
    "2. cyber security - pretty simple\n",
    "3. Citizen Science? - easy but had to search up definition\n",
    "4. Boolean - simple\n",
    "\n",
    "\n",
    "\n",
    "# Difficult Questions"
   ]
  }
 ],
 "metadata": {
  "language_info": {
   "name": "python"
  }
 },
 "nbformat": 4,
 "nbformat_minor": 2
}
