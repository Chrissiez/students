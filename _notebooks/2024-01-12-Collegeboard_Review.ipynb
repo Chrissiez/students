{
 "cells": [
  {
   "cell_type": "markdown",
   "metadata": {},
   "source": [
    "---\n",
    "toc: true\n",
    "comments: true\n",
    "layout: post\n",
    "title: College Board Quiz\n",
    "description: notes about the quiz\n",
    "type: hacks\n",
    "courses: { compsci: {week: 10} }\n",
    "---"
   ]
  },
  {
   "cell_type": "markdown",
   "metadata": {},
   "source": [
    "# Questions I got wrong:\n",
    "\n",
    "## 11. Color represented by binary triplet\n",
    "\n",
    "A color in a computing application is represented by an RGB triplet that describes the amount of red, green, and blue, respectively, used to create the desired color. A selection of colors and their corresponding RGB triplets are shown in the following table. Each value is represented in decimal (base 10).\n",
    "\n",
    "|Color Name|RGB Triplet|\n",
    "|-|-|\n",
    "|indigo\t| (75,   0, 130)|\n",
    "|ivory|\t(255, 255, 240)|\n",
    "|light pink|\t(255, 182, 193)​|\n",
    "|light yellow|\t(255, 255, 224)|\n",
    "|magenta|\t(255,   0, 255)|\n",
    "|neutral gray|\t(127, 127, 112)|\n",
    "|pale yellow|\t(255, 255, 160)|\n",
    "|vivid yellow|\t(255, 255,  14)|\n",
    "\n",
    "According to information in the table, what color is represented by the binary RGB triplet (11111111, 11111111, 11110000)?\n",
    "\n",
    "A. Ivory\n",
    "B. Light Yellow\n",
    "C. Neutral Gray\n",
    "D. Vivid Yellow\n",
    "\n",
    "### Correct Answer: A\n",
    "\n",
    "The binary number 11111111 is equal to 2^7 + 2^6 + 2^5 + 2^4 + 2^3 + 2^2 + 2^1 + 2^0, or 255. The binary number 11110000 is equal to 2^7 + 2^6 + 2^5 + 2^4, or 240. Therefore, the given binary triplet represents the color ivory.\n",
    "\n",
    "### My Answer: B\n",
    "\n",
    "The third binary number for light yellow is 11100000 while ivory is 11110000. I must have accidentally forgotten to add 2^4 and got 224 instead of 240\n"
   ]
  },
  {
   "cell_type": "markdown",
   "metadata": {},
   "source": []
  }
 ],
 "metadata": {
  "language_info": {
   "name": "python"
  }
 },
 "nbformat": 4,
 "nbformat_minor": 2
}
