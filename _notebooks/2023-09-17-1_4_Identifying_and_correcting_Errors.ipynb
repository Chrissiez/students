{
 "cells": [
  {
   "cell_type": "markdown",
   "metadata": {},
   "source": [
    "---\n",
    "title: 1.4 Identifying and Correcting Errors\n",
    "toc: true\n",
    "description: Notes on using html and javascript to create tables\n",
    "courses: { compsci: {week: 4} }\n",
    "type: hacks\n",
    "---"
   ]
  },
  {
   "cell_type": "markdown",
   "metadata": {},
   "source": [
    "- Create a tester function that runs a program and validates its functionality.\n",
    "- Show comments and code logic that reduces errors in code with if / else statements.\n",
    "- Show comments and code logic that reduces errors in code with try / catch statements."
   ]
  }
 ],
 "metadata": {
  "language_info": {
   "name": "python"
  },
  "orig_nbformat": 4
 },
 "nbformat": 4,
 "nbformat_minor": 2
}
