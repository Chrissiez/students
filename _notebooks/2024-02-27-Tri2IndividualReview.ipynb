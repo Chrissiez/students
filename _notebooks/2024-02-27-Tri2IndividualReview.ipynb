{
 "cells": [
  {
   "cell_type": "markdown",
   "metadata": {},
   "source": [
    "---\n",
    "toc: true\n",
    "comments: true\n",
    "layout: post\n",
    "title: Tri 2 Individual Review\n",
    "description: overview of the project\n",
    "type: hacks\n",
    "courses: { compsci: {week: 10} }\n",
    "---"
   ]
  },
  {
   "cell_type": "markdown",
   "metadata": {},
   "source": [
    "# Condensed Project Overview:\n",
    "\n",
    "We Created a platform to play unblocked games at school. With the school blocking almost every game imaginable, we decided to add a couple of our favorite games to play. We added a login page for users to keep track of their highscores across all of the games."
   ]
  },
  {
   "cell_type": "markdown",
   "metadata": {},
   "source": [
    "# My Feature:\n",
    "\n",
    "My feature was the tetris game that speeds up after completing 10 rows and keeps track of your highest score.\n",
    "\n"
   ]
  },
  {
   "cell_type": "markdown",
   "metadata": {},
   "source": [
    "## How it Meets CollegeBoard Requirements\n",
    "\n",
    "[link to requirements](https://apcentral.collegeboard.org/media/pdf/ap-csp-student-task-directions.pdf)\n",
    "\n",
    "| College Board Requirement: | What I did: |\n",
    "|-|-|\n",
    "|Instructions for input from one of the following: user, a device, an online data steam, or a file | The user clicks any where on the screen to start playing|\n",
    "|Use of at least one list (or other collection type) to represent a collection of data that is stored and used to manage program complexity and help fulfill the users purpose.| An example of a collection of data that is stored is of the collection high scores from the game. It helps fulfill our program’s purpose because we use the data of all the highscores so users can see how they do. I am storing all collections in and SQLite table and using JSON collection to pass data from frontend to and from the backend|\n",
    "|At least one procedure that contirubted to the program’s intened purpose where you have defined: the name, return type, one or more parameters:| This procedure has a name(Score), return(self.name) and a parameter(db.Model): ![procedure](<img width=\"604\" alt=\"call-code\" src=\"https://github.com/Chrissiez/students/assets/142445376/edf7f8a5-1c02-48db-a56c-396a4edffa29\">\n",
    ") |\n",
    "|An algorithm that includes sequencing, selection, and iteration that is in the body of the selected procedure| This combination of sequencing, selection, and iteration demonstrates a common algorithmic pattern used for processing grids or matrices in various applications. ![sequencing](<img width=\"325\" alt=\"sequencing\" src=\"https://github.com/Chrissiez/students/assets/142445376/8938fe55-3405-4a0d-8af8-1c51d3510638\">)|\n",
    "|Calls to your student-developed prodcedure:| fetches highscore ![get](<img width=\"575\" alt=\"fetch-code\" src=\"https://github.com/Chrissiez/students/assets/142445376/b5a128f1-d857-49cd-97e3-3b7e7dd81d96\">)|\n",
    "|Instructions for output (tactile, audible, visual, or ) based on input and program functionality:|This sets up the game after the user starts it ![draw](<img width=\"381\" alt=\"output-code\" src=\"https://github.com/Chrissiez/students/assets/142445376/ae0d463f-435b-4796-a4a0-5c71358e67c0\">)\n",
    "|\n",
    "\n",
    "\n",
    "# Video\n",
    "\n",
    "|Collegboard Requirements\t|My Video|\n",
    "|-|-|\n",
    "|Input to program|\tSeen in video, playing the game|\n",
    "|At least one aspect of the functionality of your program|\tthe game displays scoring, lines, and levels during the game and updates highest score after|\n",
    "|Output produced by program:|\tkeeps highest score|\n",
    "|My video does not have:|\tany distinguishing information and voice narration|\n",
    "|My video is|\ta .webmb, less than 1 minute in length, less than 30MB in file size|"
   ]
  }
 ],
 "metadata": {
  "language_info": {
   "name": "python"
  }
 },
 "nbformat": 4,
 "nbformat_minor": 2
}
