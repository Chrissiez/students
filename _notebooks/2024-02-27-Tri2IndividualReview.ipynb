{
 "cells": [
  {
   "cell_type": "markdown",
   "metadata": {},
   "source": [
    "---\n",
    "toc: true\n",
    "comments: true\n",
    "layout: post\n",
    "title: Tri 2 Individual Review\n",
    "description: overview of the project\n",
    "type: hacks\n",
    "courses: { compsci: {week: 10} }\n",
    "---"
   ]
  },
  {
   "cell_type": "markdown",
   "metadata": {},
   "source": [
    "# Condensed Project Overview:\n",
    "\n",
    "We Created a platform to play unblocked games at school. With the school blocking almost every game imaginable, we decided to add a couple of our favorite games to play. We added a login page for users to keep track of their highscores across all of the games."
   ]
  },
  {
   "cell_type": "markdown",
   "metadata": {},
   "source": [
    "# My Feature:\n",
    "\n",
    "My feature was the tetris game that speeds up after completing 10 rows and keeps track of your highest score.\n",
    "\n"
   ]
  },
  {
   "cell_type": "markdown",
   "metadata": {},
   "source": [
    "## How it Meets CollegeBoard Requirements\n",
    "\n",
    "[link to requirements](https://apcentral.collegeboard.org/media/pdf/ap-csp-student-task-directions.pdf)\n",
    "\n",
    "| College Board Requirement: | What I did: |\n",
    "|-|-|\n",
    "|Instructions for input from one of the following: user, a device, an online data steam, or a file | The user clicks any where on the screen to start playing|\n",
    "|Use of at least one list (or other collection type) to represent a collection of data that is stored and used to manage program complexity and help fulfill the users purpose.| An example of a collection of data that is stored is of the collection high scores from the game. It helps fulfill our program’s purpose because we use the data of all the highscores so users can see how they do. I am storing all collections in and SQLite table and using JSON collection to pass data from frontend to and from the backend|\n",
    "|At least one procedure that contirubted to the program’s intened purpose where you have defined: the name, return type, one or more parameters:| This procedure has a name(addLines) and a parameter(line): ![parameter](_notebooks/images/parameter-code.png) This procedue has a return(lines)![return](/home/chrissie/vscode/students/_notebooks/images/return-code.png)\n"
   ]
  }
 ],
 "metadata": {
  "language_info": {
   "name": "python"
  }
 },
 "nbformat": 4,
 "nbformat_minor": 2
}
