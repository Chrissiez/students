{
 "cells": [
  {
   "cell_type": "markdown",
   "metadata": {},
   "source": [
    "---\n",
    "toc: true\n",
    "comments: true\n",
    "layout: post\n",
    "title: Individual Review\n",
    "description: reviews\n",
    "type: hacks\n",
    "courses: { compsci: {week: 10} }\n",
    "---\n"
   ]
  },
  {
   "cell_type": "markdown",
   "metadata": {},
   "source": [
    "# Individual Code \n",
    "\n",
    "## Chrissie's Cookies\n",
    "\n",
    "this is the main group project\n",
    "Since I was going into this project with no previous coding experience, it was difficult to add useful commits. So instead, I spent time learning from what my teammates coded and adding my own additions.\n",
    "\n",
    "### Our Story Page - layouts\n",
    "\n",
    "link to [issue](https://github.com/Vynz123/chrissieccookies/commit/7847066759729d7a71f3bda7e7b1c93006edf365)\n",
    "\n",
    "Very early on, there was a plan to have a Story/Media Page. So, I referred to the already set up home page and set up a page for our story. \n",
    "\n",
    "I first copied the layout of the catalog.html and made a new .md. Then I changed the site base url for all of the layouts so it would include the story page. Then I refreshed on how to add text in html\n",
    "\n",
    "### Adding Cookies - Api\n",
    "\n",
    "link to [issue](https://github.com/Harkirat47/ByteBuFOOOns/commit/3e762f9e7be99ab05708c2ca382574ff08011f97)\n",
    "\n",
    "Once Harkirat set up the backend API. I started to learn how to add data to the API. I followed Harkirat's code to add a Cookie 8. Then he showed me how to view and access the data through postman.\n",
    "\n",
    "![postman](images/cookie%20api.png)\n",
    "\n",
    "\n",
    "## Dino Game \n",
    "\n",
    "This is a side project I did with Arushi\n",
    "\n",
    "Since we weren't as advanced as the other members in our group, we had difficulty adding meaningful commits.\n",
    "\n",
    "\n"
   ]
  },
  {
   "cell_type": "markdown",
   "metadata": {},
   "source": [
    "# Individual Blog\n",
    "\n",
    "## Student Lessons\n",
    "\n",
    "Student Lessons are organized chronologically and in a separate column. I make sure to complete all hacks and do all the homework to make the most out of the student lessons. I try to show as much effort as possible, especially in the homework.\n",
    "\n",
    "## Pseudo Code\n",
    "\n",
    "DISPLAY (\"What's your name?\")\n",
    "name <- INPUT ()\n",
    "DISPLAY (\"Hello\")\n",
    "DISPLAY (name)\n",
    "Pseudo code lets you draft code before it’s written. Here, there’s code to display your name with user input. \n",
    "\n",
    "I think pseduo code is pretty useful and beginner friendly considering you don't have remember to add <> or ; after each line of code like in html and javascript.\n",
    "\n",
    "## Analytics\n",
    "\n",
    "![analytics](images/tri_1_analytics.png)\n",
    "\n",
    "## Reflection\n",
    "\n",
    "I learned a lot new skills over the course of this trimester. I feel like there was a massive learning curve, but hopefully I will start picking up on things quicker in the next two trimesters. I learned a lot about markdown, javascript, python, html, CSS, and linux bash and shell. I feel like I'm starting to understand markdown and python more\n",
    "\n",
    "Not only did I expand my knowledge coding-wise, but I also now know what kind of group I should be looking for. Orginally, I assumed joining a group of people who were more experienced would be more beneficial since they could teach me. But I quickly found that it was actually harder for me to learn, as a lot of the coding would be done at home and without any information on how they did it. \n",
    "\n"
   ]
  }
 ],
 "metadata": {
  "language_info": {
   "name": "python"
  }
 },
 "nbformat": 4,
 "nbformat_minor": 2
}
