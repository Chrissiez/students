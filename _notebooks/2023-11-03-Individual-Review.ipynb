{
 "cells": [
  {
   "cell_type": "markdown",
   "metadata": {},
   "source": [
    "---\n",
    "toc: true\n",
    "comments: true\n",
    "layout: post\n",
    "title: Individual Review\n",
    "description: reviews\n",
    "type: hacks\n",
    "courses: { compsci: {week: 10} }\n",
    "---\n"
   ]
  },
  {
   "cell_type": "markdown",
   "metadata": {},
   "source": [
    "# Individual Code \n",
    "\n",
    "## Chrissie's Cookies\n",
    "\n",
    "this is the main group project\n",
    "Since I was going into this project with no previous coding experience, it was difficult to add useful commits. So instead, I spent time learning from what my teammates coded and adding my own additions.\n",
    "\n",
    "### Our Story Page - layouts\n",
    "\n",
    "link to [issue](https://github.com/Vynz123/chrissieccookies/commit/7847066759729d7a71f3bda7e7b1c93006edf365)\n",
    "\n",
    "Very early on, there was a plan to have a Story/Media Page. So, I referred to the already set up home page and set up a page for our story. \n",
    "\n",
    "I first copied the layout of the catalog.html and made a new .md. Then I changed the site base url for all of the layouts so it would include the story page. Then I refreshed on how to add text in html\n",
    "\n",
    "### Adding Cookies - Api\n",
    "\n",
    "link to [issue](https://github.com/Harkirat47/ByteBuFOOOns/commit/3e762f9e7be99ab05708c2ca382574ff08011f97)\n",
    "\n",
    "Once Harkirat set up the backend API. I started to learn how to add data to the API. I followed Harkirat's code to add a Cookie 8. Then he showed me how to view and access the data through postman.\n",
    "\n",
    "![postman](images/cookie%20api.png)\n",
    "\n",
    "\n",
    "## Dino Game \n",
    "\n",
    "This is a side project I did with Arushi\n",
    "\n",
    "Since we weren't as advanced as the other members in our group, we had difficulty adding meaningful commits. So, we decided to create our own side project. However, since we started super late we chose to find code online and tinker with it to help us discover how everything works. \n",
    "\n",
    "link to [issue](https://github.com/Chrissiez/DinoGame-Pages/commit/3850658953113b881b0d841678e7da0514641ab0)\n",
    "\n",
    "After I uploaded the code, I started tinkering with it trying to see what would happen if I changed/deleted stuff.\n",
    "\n",
    "\n",
    "\n"
   ]
  },
  {
   "cell_type": "markdown",
   "metadata": {},
   "source": [
    "# Individual Blog\n",
    "\n",
    "## Student Lessons\n",
    "\n",
    "Student Lessons are organized chronologically and in a separate column. I make sure to complete all hacks and do all the homework to make the most out of the student lessons. I try to show as much effort as possible, especially in the homework.\n",
    "\n",
    "## Pseudo Code\n",
    "\n",
    "DISPLAY (\"What's your name?\")\n",
    "\n",
    "name <- INPUT ()\n",
    "\n",
    "DISPLAY (\"Hello\")\n",
    "\n",
    "DISPLAY (name)\n",
    "\n",
    "Pseudo code lets you draft code before it’s written. Here, there’s code to display your name with user input. \n",
    "\n",
    "I think pseduo code is pretty useful and beginner friendly considering you don't have remember to add <> or ; after each line of code like in html and javascript.\n",
    "\n",
    "## Analytics\n",
    "\n",
    "![analytics](images/tri_1_analytics.png)\n",
    "\n",
    "## Reflection\n",
    "\n",
    "I learned a lot new skills over the course of this trimester. I feel like there was a massive learning curve because of how fast pace everything was. I learned a lot about markdown, javascript, python, html, CSS, github, and linux bash and shell. I feel like I'm starting to understand markdown, css, and python more, but I feel like I still don't really understand linux bash and sheel and js \n",
    "\n",
    "Not only did I expand my knowledge coding-wise, but I also now know what kind of group I should be looking for. Orginally, I assumed joining a group of people who were more experienced would be more beneficial since they could teach me. But I quickly found that it was actually harder for me to learn, as a lot of the coding would be done at home and without any information on how they did it. \n",
    "\n",
    "Next Trimester I will be wiser in my group choice and work with people who are more my skill level. Additionally, I will spend more time after school trying to lessen the learning curve. I want understand more javascript and python. \n",
    "\n"
   ]
  }
 ],
 "metadata": {
  "language_info": {
   "name": "python"
  }
 },
 "nbformat": 4,
 "nbformat_minor": 2
}
