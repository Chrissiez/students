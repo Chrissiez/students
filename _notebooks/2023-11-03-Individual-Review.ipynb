{
 "cells": [
  {
   "cell_type": "markdown",
   "metadata": {},
   "source": [
    "---\n",
    "toc: true\n",
    "comments: true\n",
    "layout: post\n",
    "title: Individual Review\n",
    "description: reviews\n",
    "type: hacks\n",
    "courses: { compsci: {week: 7} }\n",
    "---\n"
   ]
  },
  {
   "cell_type": "markdown",
   "metadata": {},
   "source": [
    "# Small Discoveries\n",
    "\n",
    "# Github Analytics Review\n",
    "\n",
    "# Refelctions"
   ]
  }
 ],
 "metadata": {
  "language_info": {
   "name": "python"
  }
 },
 "nbformat": 4,
 "nbformat_minor": 2
}
