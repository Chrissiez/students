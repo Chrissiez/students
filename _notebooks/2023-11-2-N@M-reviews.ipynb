{
 "cells": [
  {
   "cell_type": "markdown",
   "metadata": {},
   "source": [
    "---\n",
    "toc: true\n",
    "comments: true\n",
    "layout: post\n",
    "title: N@tM reviews\n",
    "description: reviews\n",
    "type: hacks\n",
    "courses: { compsci: {week: 10} }\n",
    "---"
   ]
  },
  {
   "cell_type": "markdown",
   "metadata": {},
   "source": [
    "## Nitin's College Rankings\n",
    "\n",
    "HOOK:(Points: 4.0/4.0)\n",
    "Reason:\n",
    "Very interesting concept and good execution\n",
    "\n",
    "KNOWLEDGE: (Points: 3.6/4.0)\n",
    "Reason:\n",
    "Some members seemed to not understand the code upon further questioning of how it works.\n",
    "\n",
    "VALUE: (Points: 1.0/1.0)\n",
    "Reason:\n",
    "Very useful website in the real world.\n",
    "\n",
    "WOW FACTOR (points: 1.0/1.0)\n",
    "Reason:\n",
    "Had AI chat\n",
    "\n",
    "9.6/10"
   ]
  },
  {
   "cell_type": "markdown",
   "metadata": {},
   "source": [
    "## Josh's Asian United\n",
    "\n",
    "HOOK:(Points: 4.0/4.0)\n",
    "Reason:\n",
    "Very pretty website, animated, and 5 games, all of them with various different have a different basis\n",
    "\n",
    "KNOWLEDGE: (Points: 4.0/4.0)\n",
    "Reason:\n",
    "Able to explain their code.\n",
    "\n",
    "VALUE: (Points: 1.0/1.0)\n",
    "Reason:\n",
    "Super fun games to play\n",
    "\n",
    "WOW FACTOR\n",
    "Reason: (points: 1.0/1.0)\n",
    "The leaderboard feature and the fact that user data was saved was very impressive.\n",
    "\n",
    "10/10"
   ]
  },
  {
   "cell_type": "markdown",
   "metadata": {},
   "source": [
    "## Eshika's Lung Cancer and Climate Change\n",
    "\n",
    "HOOK:(Points: 4.0/4.0)\n",
    "Reason:\n",
    "Very relavent topic\n",
    "\n",
    "KNOWLEDGE: (Points: 4.0/4.0)\n",
    "Reason:\n",
    "Able to fully explain their code, emphaized their api's and libraries\n",
    "\n",
    "VALUE: (Points: 1.0/1.0)\n",
    "Reason:\n",
    "Very valuable to those who want to educate themselves on cancer, lots of quizzes, graphs, etc. to complement main feature of pie charts.\n",
    "\n",
    "WOW FACTOR\n",
    "Reason: (points: 1.0/1.0)\n",
    "Super fun and informative\n",
    "\n",
    "10/10\n"
   ]
  }
 ],
 "metadata": {
  "language_info": {
   "name": "python"
  }
 },
 "nbformat": 4,
 "nbformat_minor": 2
}
