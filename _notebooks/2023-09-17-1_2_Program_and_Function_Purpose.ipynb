{
 "cells": [
  {
   "cell_type": "markdown",
   "metadata": {},
   "source": [
    "---\n",
    "title: 1.2 Program and Function Purpose\n",
    "toc: true\n",
    "description: Notes on using html and javascript to create tables\n",
    "courses: { compsci: {week: 4} }\n",
    "type: hacks\n",
    "---"
   ]
  },
  {
   "cell_type": "markdown",
   "metadata": {},
   "source": [
    "- Program with Output\n",
    "- Program with Input and Output\n",
    "- Program with a List\n",
    "- Program with a Dictionary\n",
    "- Program with Iteration\n",
    "- Program with a Function to perform mathematical and/or a statistical calculations.\n",
    "- Program with a Selection/Condition\n",
    "- Finish with a Program with Purpose"
   ]
  }
 ],
 "metadata": {
  "language_info": {
   "name": "python"
  },
  "orig_nbformat": 4
 },
 "nbformat": 4,
 "nbformat_minor": 2
}
