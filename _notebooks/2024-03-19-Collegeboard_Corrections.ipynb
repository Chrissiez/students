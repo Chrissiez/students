{
 "cells": [
  {
   "cell_type": "markdown",
   "metadata": {},
   "source": [
    "---\n",
    "toc: true\n",
    "comments: true\n",
    "layout: post\n",
    "title: College Board Quiz\n",
    "description: notes about the quiz\n",
    "type: hacks\n",
    "courses: { compsci: {week: 10} }\n",
    "---"
   ]
  },
  {
   "cell_type": "markdown",
   "metadata": {},
   "source": [
    "# Questions I got wrong:\n",
    "\n",
    "## Q9 Digital representation of audio signal\n",
    "\n",
    "Which of the following best explains how an analog audio signal is typically represented by a computer?\n",
    "\n",
    "A) An analog audio signal is measured as input parameters to a program or procedure. The inputs are represented at the lowest level as a collection of variables.\n",
    "B) An analog audio signal is measured at regular intervals. Each measurement is stored as a sample, which is represented at the lowest level as a sequence of bits.\n",
    "C) An analog audio signal is measured as a sequence of operations that describe how the sound can be reproduced. The operations are represented at the lowest level as programming instructions.\n",
    "D) An analog audio signal is measured as text that describes the attributes of the sound. The text is represented at the lowest level as a string.\n",
    "\n",
    "\n",
    "### Correct Answer: B\n",
    "\n",
    "Analog signals are sampled digitally at discrete intervals over time. These samples, like all digital data, are represented at the lowest level as a sequence of bits.\n",
    "\n",
    "### What I answered: A \n",
    "\n",
    "While some programs or procedures take audio data as input, this is not how audio data are represented digitally. At the lowest level, all digital data are represented as sequences of bits\n",
    "\n",
    "I \n"
   ]
  }
 ],
 "metadata": {
  "language_info": {
   "name": "python"
  }
 },
 "nbformat": 4,
 "nbformat_minor": 2
}
