{
 "cells": [
  {
   "cell_type": "markdown",
   "metadata": {},
   "source": [
    "---\n",
    "title: 1.3 Program Design and Development\n",
    "toc: true\n",
    "description: Notes on using html and javascript to create tables\n",
    "courses: { compsci: {week: 4} }\n",
    "type: hacks\n",
    "---"
   ]
  },
  {
   "cell_type": "markdown",
   "metadata": {},
   "source": [
    "- Create a Visual Illustration of a program, algorithm, ot process.\n",
    "- Show documentation of a program with a List and Iteration.\n",
    "- Show comments on a program that does a mathematical and/or statistical calculation."
   ]
  }
 ],
 "metadata": {
  "language_info": {
   "name": "python"
  },
  "orig_nbformat": 4
 },
 "nbformat": 4,
 "nbformat_minor": 2
}
