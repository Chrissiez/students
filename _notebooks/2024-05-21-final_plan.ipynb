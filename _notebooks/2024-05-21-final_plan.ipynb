{
 "cells": [
  {
   "cell_type": "markdown",
   "metadata": {},
   "source": [
    "---\n",
    "toc: true\n",
    "comments: true\n",
    "layout: post\n",
    "title: Final Plan\n",
    "description: write up\n",
    "type: hacks\n",
    "courses: { compsci: {week: 10} }\n",
    "---"
   ]
  },
  {
   "cell_type": "markdown",
   "metadata": {},
   "source": [
    "# Description\n",
    "Plan for Isabelle and Chrissie's final project\n",
    "\n",
    "## Overview\n",
    "Because our group spends a lot of time playing NYT games like the mini crossword together, we want to make a project related to that so it caters to our enjoyment. The mini crossword project will include a crossword grid, word bank, hints, user input, etc.\n",
    "\n",
    "## Mini Crossword Puzzle\n",
    "### Loops (Algorithmic):\n",
    "Show specific example of building a List using List Comprehension. Show examples of processing a list using conventional and for each methods.\n",
    "\n",
    "- Use loops to iterate over rows and columns of the crossword grid\n",
    "- List comprehension to initialize and populate the crossword grid with blank squares and black squares.\n",
    "### Sorting / Searching (Algorithmic)\n",
    "Show examples of sorting and searching using the backend of your project.. FYI, SQLAlchemy allows filtered selections and sorting. Additionally, you have sorting options discussed in tech talk.\n",
    "\n",
    "- Create a word bank/dictionary to store valid words for the crossword\n",
    "- Alphabetically sort the word bank for efficiency\n",
    "- Verify if a word entered by the user is valid?\n",
    "### Big(O)\n",
    "Illustrate Space and Time complexity used in your Sorting / Searching algorithm.\n",
    "\n",
    "- Time Complexity:\n",
    "    - Analyze the time complexity of the word lookup algorithm, considering the size of the word bank and the search method used\n",
    "- Space Complexity:\n",
    "    - Analyze the space complexity of storing the crossword grid and word bank in memory.\n",
    "### 2D Iteration\n",
    "Show examples of code that use 2D iteration. This can be anywhere in your code where you are using rows and columns.\n",
    "\n",
    "- Use 2D iteration to interact with the crossword grid.\n",
    "- Iterate over rows and columns to display the crossword and handle user input for filling in words.\n",
    "### Deployment (Full Stack)\n",
    "A complete deployment illustration multiple people using and updating your Full Stack Web Application simultaneously.\n",
    "\n",
    "- Records of time it took to complete crosswords"
   ]
  }
 ],
 "metadata": {
  "language_info": {
   "name": "python"
  }
 },
 "nbformat": 4,
 "nbformat_minor": 2
}
